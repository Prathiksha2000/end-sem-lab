{
 "cells": [
  {
   "cell_type": "code",
   "execution_count": 1,
   "metadata": {},
   "outputs": [],
   "source": [
    "#que 1 dataset and its attribute\n",
    "\n",
    "import pandas as pd \n"
   ]
  },
  {
   "cell_type": "code",
   "execution_count": 3,
   "metadata": {},
   "outputs": [
    {
     "data": {
      "text/html": [
       "<div>\n",
       "<style scoped>\n",
       "    .dataframe tbody tr th:only-of-type {\n",
       "        vertical-align: middle;\n",
       "    }\n",
       "\n",
       "    .dataframe tbody tr th {\n",
       "        vertical-align: top;\n",
       "    }\n",
       "\n",
       "    .dataframe thead th {\n",
       "        text-align: right;\n",
       "    }\n",
       "</style>\n",
       "<table border=\"1\" class=\"dataframe\">\n",
       "  <thead>\n",
       "    <tr style=\"text-align: right;\">\n",
       "      <th></th>\n",
       "      <th>STATE/UT</th>\n",
       "      <th>YEAR</th>\n",
       "      <th>0-3 hrs. (Night)</th>\n",
       "      <th>3-6 hrs. (Night)</th>\n",
       "      <th>6-9 hrs (Day)</th>\n",
       "      <th>9-12 hrs (Day)</th>\n",
       "      <th>12-15 hrs (Day)</th>\n",
       "      <th>15-18 hrs (Day)</th>\n",
       "      <th>18-21 hrs (Night)</th>\n",
       "      <th>21-24 hrs (Night)</th>\n",
       "      <th>Total</th>\n",
       "    </tr>\n",
       "  </thead>\n",
       "  <tbody>\n",
       "    <tr>\n",
       "      <td>0</td>\n",
       "      <td>A &amp; N Islands</td>\n",
       "      <td>2001</td>\n",
       "      <td>2</td>\n",
       "      <td>6</td>\n",
       "      <td>29</td>\n",
       "      <td>40</td>\n",
       "      <td>39</td>\n",
       "      <td>40</td>\n",
       "      <td>18</td>\n",
       "      <td>7</td>\n",
       "      <td>181</td>\n",
       "    </tr>\n",
       "    <tr>\n",
       "      <td>1</td>\n",
       "      <td>A &amp; N Islands</td>\n",
       "      <td>2002</td>\n",
       "      <td>2</td>\n",
       "      <td>6</td>\n",
       "      <td>22</td>\n",
       "      <td>41</td>\n",
       "      <td>33</td>\n",
       "      <td>33</td>\n",
       "      <td>23</td>\n",
       "      <td>8</td>\n",
       "      <td>168</td>\n",
       "    </tr>\n",
       "    <tr>\n",
       "      <td>2</td>\n",
       "      <td>A &amp; N Islands</td>\n",
       "      <td>2003</td>\n",
       "      <td>2</td>\n",
       "      <td>8</td>\n",
       "      <td>31</td>\n",
       "      <td>35</td>\n",
       "      <td>28</td>\n",
       "      <td>36</td>\n",
       "      <td>25</td>\n",
       "      <td>15</td>\n",
       "      <td>180</td>\n",
       "    </tr>\n",
       "    <tr>\n",
       "      <td>3</td>\n",
       "      <td>A &amp; N Islands</td>\n",
       "      <td>2004</td>\n",
       "      <td>2</td>\n",
       "      <td>5</td>\n",
       "      <td>29</td>\n",
       "      <td>42</td>\n",
       "      <td>43</td>\n",
       "      <td>43</td>\n",
       "      <td>37</td>\n",
       "      <td>14</td>\n",
       "      <td>215</td>\n",
       "    </tr>\n",
       "    <tr>\n",
       "      <td>4</td>\n",
       "      <td>A &amp; N Islands</td>\n",
       "      <td>2005</td>\n",
       "      <td>0</td>\n",
       "      <td>8</td>\n",
       "      <td>27</td>\n",
       "      <td>28</td>\n",
       "      <td>38</td>\n",
       "      <td>42</td>\n",
       "      <td>50</td>\n",
       "      <td>13</td>\n",
       "      <td>206</td>\n",
       "    </tr>\n",
       "  </tbody>\n",
       "</table>\n",
       "</div>"
      ],
      "text/plain": [
       "        STATE/UT  YEAR  0-3 hrs. (Night)  3-6 hrs. (Night)  6-9 hrs (Day)  \\\n",
       "0  A & N Islands  2001                 2                 6             29   \n",
       "1  A & N Islands  2002                 2                 6             22   \n",
       "2  A & N Islands  2003                 2                 8             31   \n",
       "3  A & N Islands  2004                 2                 5             29   \n",
       "4  A & N Islands  2005                 0                 8             27   \n",
       "\n",
       "   9-12 hrs (Day)  12-15 hrs (Day)  15-18 hrs (Day)  18-21 hrs (Night)  \\\n",
       "0              40               39               40                 18   \n",
       "1              41               33               33                 23   \n",
       "2              35               28               36                 25   \n",
       "3              42               43               43                 37   \n",
       "4              28               38               42                 50   \n",
       "\n",
       "   21-24 hrs (Night)  Total  \n",
       "0                  7    181  \n",
       "1                  8    168  \n",
       "2                 15    180  \n",
       "3                 14    215  \n",
       "4                 13    206  "
      ]
     },
     "execution_count": 3,
     "metadata": {},
     "output_type": "execute_result"
    }
   ],
   "source": [
    "data=pd.read_csv(r\"C:\\Users\\prath\\Documents\\KCT 6TH SEM\\only_road_accidents_data3.csv\")\n",
    "data.head()"
   ]
  },
  {
   "cell_type": "code",
   "execution_count": 4,
   "metadata": {},
   "outputs": [
    {
     "name": "stdout",
     "output_type": "stream",
     "text": [
      "<class 'pandas.core.frame.DataFrame'>\n",
      "RangeIndex: 490 entries, 0 to 489\n",
      "Data columns (total 11 columns):\n",
      "STATE/UT             490 non-null object\n",
      "YEAR                 490 non-null int64\n",
      "0-3 hrs. (Night)     490 non-null int64\n",
      "3-6 hrs. (Night)     490 non-null int64\n",
      "6-9 hrs (Day)        490 non-null int64\n",
      "9-12 hrs (Day)       490 non-null int64\n",
      "12-15 hrs (Day)      490 non-null int64\n",
      "15-18 hrs (Day)      490 non-null int64\n",
      "18-21 hrs (Night)    490 non-null int64\n",
      "21-24 hrs (Night)    490 non-null int64\n",
      "Total                490 non-null int64\n",
      "dtypes: int64(10), object(1)\n",
      "memory usage: 42.2+ KB\n"
     ]
    }
   ],
   "source": [
    "data.info()"
   ]
  },
  {
   "cell_type": "code",
   "execution_count": 5,
   "metadata": {},
   "outputs": [],
   "source": [
    "#que 2:\n",
    "from pandas import DataFrame\n",
    "import matplotlib.pyplot as plt\n",
    "from sklearn.cluster import KMeans"
   ]
  },
  {
   "cell_type": "code",
   "execution_count": 6,
   "metadata": {},
   "outputs": [
    {
     "name": "stdout",
     "output_type": "stream",
     "text": [
      "X: [57, 68, 92, 36, 30, 45, 39, 94, 34, 42, 49, 99, 52, 82, 83, 93, 89, 44, 72, 86, 85, 66, 62, 91, 87, 56, 61, 65, 75, 78, 90, 51, 33, 58, 38, 50, 64, 41, 35, 98, 96, 88, 31, 69, 55, 40, 60, 46, 76, 59]\n",
      "Y: [73, 65, 109, 139, 99, 62, 112, 128, 101, 69, 140, 77, 143, 124, 110, 131, 71, 88, 126, 130, 118, 72, 66, 125, 145, 90, 132, 127, 94, 138, 100, 116, 119, 105, 91, 129, 144, 136, 87, 122, 113, 89, 64, 134, 82, 141, 79, 74, 120, 142]\n"
     ]
    },
    {
     "data": {
      "text/html": [
       "<div>\n",
       "<style scoped>\n",
       "    .dataframe tbody tr th:only-of-type {\n",
       "        vertical-align: middle;\n",
       "    }\n",
       "\n",
       "    .dataframe tbody tr th {\n",
       "        vertical-align: top;\n",
       "    }\n",
       "\n",
       "    .dataframe thead th {\n",
       "        text-align: right;\n",
       "    }\n",
       "</style>\n",
       "<table border=\"1\" class=\"dataframe\">\n",
       "  <thead>\n",
       "    <tr style=\"text-align: right;\">\n",
       "      <th></th>\n",
       "      <th>X</th>\n",
       "      <th>Y</th>\n",
       "    </tr>\n",
       "  </thead>\n",
       "  <tbody>\n",
       "    <tr>\n",
       "      <td>0</td>\n",
       "      <td>57</td>\n",
       "      <td>73</td>\n",
       "    </tr>\n",
       "    <tr>\n",
       "      <td>1</td>\n",
       "      <td>68</td>\n",
       "      <td>65</td>\n",
       "    </tr>\n",
       "    <tr>\n",
       "      <td>2</td>\n",
       "      <td>92</td>\n",
       "      <td>109</td>\n",
       "    </tr>\n",
       "    <tr>\n",
       "      <td>3</td>\n",
       "      <td>36</td>\n",
       "      <td>139</td>\n",
       "    </tr>\n",
       "    <tr>\n",
       "      <td>4</td>\n",
       "      <td>30</td>\n",
       "      <td>99</td>\n",
       "    </tr>\n",
       "  </tbody>\n",
       "</table>\n",
       "</div>"
      ],
      "text/plain": [
       "    X    Y\n",
       "0  57   73\n",
       "1  68   65\n",
       "2  92  109\n",
       "3  36  139\n",
       "4  30   99"
      ]
     },
     "execution_count": 6,
     "metadata": {},
     "output_type": "execute_result"
    }
   ],
   "source": [
    "# Creating a random dataset of 50 elements with \n",
    "# x and y variables using random function\n",
    "# between 30 to 100 integers for x and 60 to 150 integers for y\n",
    "import random\n",
    "import numpy\n",
    "x_col=random.sample(range(30, 100), 50)\n",
    "print(\"X:\",x_col)\n",
    "y_col=random.sample(range(60, 150), 50)\n",
    "print(\"Y:\",y_col)\n",
    "values={'X':x_col,'Y':y_col}\n",
    "dt= DataFrame(values)\n",
    "dt.head()"
   ]
  },
  {
   "cell_type": "code",
   "execution_count": 7,
   "metadata": {},
   "outputs": [
    {
     "name": "stdout",
     "output_type": "stream",
     "text": [
      "[[ 51.13333333 130.6       ]\n",
      " [ 50.47058824  78.41176471]\n",
      " [ 86.94444444 116.61111111]]\n"
     ]
    },
    {
     "data": {
      "image/png": "[encoded data removed]",
      "text/plain": [
       "<Figure size 432x288 with 1 Axes>"
      ]
     },
     "metadata": {
      "needs_background": "light"
     },
     "output_type": "display_data"
    }
   ],
   "source": [
    "#Dividing the dataset into three clusters\n",
    "kmeans = KMeans(n_clusters=3).fit(dt)\n",
    "centroids = kmeans.cluster_centers_\n",
    "print(centroids)\n",
    "\n",
    "plt.scatter(dt['X'], dt['Y'], c= kmeans.labels_.astype(float), s=50, alpha=0.5)\n",
    "plt.scatter(centroids[:, 0], centroids[:, 1], c='red', s=50)\n",
    "plt.xlabel(\"x-values\")\n",
    "plt.ylabel(\"y-values\")\n",
    "plt.show()"
   ]
  },
  {
   "cell_type": "code",
   "execution_count": null,
   "metadata": {},
   "outputs": [],
   "source": [
    "#visualising the clusters using tkinter GUI\n",
    "import tkinter as tk\n",
    "from matplotlib.backends.backend_tkagg import FigureCanvasTkAgg\n",
    "root= tk.Tk()\n",
    "canvas1 = tk.Canvas(root, width = 100, height = 100)\n",
    "canvas1.pack()\n",
    "label1 = tk.Label(root, text=centroids, justify = 'center')\n",
    "canvas1.create_window(10, 90, window=label1)\n",
    "figure1 = plt.Figure(figsize=(5,4), dpi=100)\n",
    "ax1 = figure1.add_subplot(111)\n",
    "ax1.scatter(dt['X'], dt['Y'], c= kmeans.labels_.astype(float), s=50, alpha=0.5)\n",
    "ax1.scatter(centroids[:, 0], centroids[:, 1], c='red', s=50)\n",
    "scatter1 = FigureCanvasTkAgg(figure1, root) \n",
    "scatter1.get_tk_widget().pack(side=tk.LEFT, fill=tk.BOTH)\n",
    "\n",
    "root.mainloop()"
   ]
  },
  {
   "cell_type": "code",
   "execution_count": null,
   "metadata": {},
   "outputs": [],
   "source": []
  }
 ],
 "metadata": {
  "kernelspec": {
   "display_name": "Python 3",
   "language": "python",
   "name": "python3"
  },
  "language_info": {
   "codemirror_mode": {
    "name": "ipython",
    "version": 3
   },
   "file_extension": ".py",
   "mimetype": "text/x-python",
   "name": "python",
   "nbconvert_exporter": "python",
   "pygments_lexer": "ipython3",
   "version": "3.6.5"
  }
 },
 "nbformat": 4,
 "nbformat_minor": 2
}
